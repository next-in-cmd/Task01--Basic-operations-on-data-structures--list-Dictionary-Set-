{
  "nbformat": 4,
  "nbformat_minor": 0,
  "metadata": {
    "colab": {
      "provenance": []
    },
    "kernelspec": {
      "name": "python3",
      "display_name": "Python 3"
    },
    "language_info": {
      "name": "python"
    }
  },
  "cells": [
    {
      "cell_type": "code",
      "execution_count": 4,
      "metadata": {
        "colab": {
          "base_uri": "https://localhost:8080/"
        },
        "id": "HlMSMDl4jC9-",
        "outputId": "725c6dab-4c67-4298-961b-4e4d12bbdba3"
      },
      "outputs": [
        {
          "output_type": "stream",
          "name": "stdout",
          "text": [
            "Base list :  [1, 2, 3, 4, 5]\n",
            "After addition :  [1, 2, 3, 4, 5, 6]\n",
            "After Removal :  [1, 2, 4, 5, 6]\n",
            "After Modification : [10, 2, 4, 5, 6]\n",
            "\n",
            " After Addition {'name': 'John', 'age': 25, 'city': 'Delhi', 'gender': 'male'}\n",
            "After Removal {'name': 'John', 'city': 'Delhi', 'gender': 'male'}\n",
            "After Modification {'name': 'John', 'city': 'mumbai', 'gender': 'male'}\n",
            "\n",
            " After Addition :  {1, 2, 3, 4, 5, 6}\n",
            "After Removal :  {1, 3, 4, 5, 6}\n",
            "After Modification {1, 3, 4, 5, 6, 7}\n"
          ]
        }
      ],
      "source": [
        "# creating a list\n",
        "my_list = [1,2,3,4,5]\n",
        "print(\"Base list : \", my_list)\n",
        "# Adding an element to the list\n",
        "my_list.append(6)\n",
        "print(\"After addition : \", my_list)\n",
        "\n",
        "# Removing an elwment from list\n",
        "my_list.remove(3)\n",
        "print(\"After Removal : \", my_list)\n",
        "\n",
        "#Modifying an element in the list\n",
        "my_list[0] =10\n",
        "print(\"After Modification :\", my_list)\n",
        "\n",
        "# Created a dictionary\n",
        "my_dict = {'name': 'John', 'age': 25, 'city': 'Delhi'}\n",
        "\n",
        "# Adding\n",
        "my_dict['gender'] = 'male'\n",
        "print(\"\\n After Addition\", my_dict)\n",
        "\n",
        "#Removing\n",
        "del my_dict['age']\n",
        "print(\"After Removal\", my_dict)\n",
        "\n",
        "#Modifying\n",
        "my_dict['city'] = 'mumbai'\n",
        "\n",
        "print (\"After Modification\", my_dict)\n",
        "\n",
        "# Creating a set\n",
        "my_set = {1,2,3,4,5}\n",
        "\n",
        "#Adding\n",
        "my_set.add(6)\n",
        "print(\"\\n After Addition : \", my_set)\n",
        "\n",
        "# Removing\n",
        "my_set.remove(2)\n",
        "print(\"After Removal : \", my_set)\n",
        "\n",
        "# Modifying\n",
        "my_set.update([7])\n",
        "print(\"After Modification\", my_set)"
      ]
    }
  ]
}